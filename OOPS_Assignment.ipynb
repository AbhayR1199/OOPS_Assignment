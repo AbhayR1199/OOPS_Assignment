{
  "nbformat": 4,
  "nbformat_minor": 0,
  "metadata": {
    "colab": {
      "provenance": []
    },
    "kernelspec": {
      "name": "python3",
      "display_name": "Python 3"
    },
    "language_info": {
      "name": "python"
    }
  },
  "cells": [
    {
      "cell_type": "code",
      "execution_count": 6,
      "metadata": {
        "id": "_a30dxziJWx3"
      },
      "outputs": [],
      "source": [
        "#1.Create a parent class Animal with a method speak() that prints a generic message. Create a child class Dog that overrides the speak() method to print \"Bark!\"."
      ]
    },
    {
      "cell_type": "code",
      "source": [
        "class Animal:\n",
        "    def speak(self):\n",
        "        print(\"The animal makes a sound.\")\n",
        "class Dog(Animal):\n",
        "    def speak(self):\n",
        "        print(\"Bark!\")\n",
        "a = Animal()\n",
        "a.speak()\n",
        "\n",
        "d = Dog()\n",
        "d.speak()"
      ],
      "metadata": {
        "colab": {
          "base_uri": "https://localhost:8080/"
        },
        "id": "xmGEXlVDs_L4",
        "outputId": "61330750-1611-434c-f3d9-58723b4f8c13"
      },
      "execution_count": 5,
      "outputs": [
        {
          "output_type": "stream",
          "name": "stdout",
          "text": [
            "The animal makes a sound.\n",
            "Bark!\n"
          ]
        }
      ]
    },
    {
      "cell_type": "code",
      "source": [
        "#2.Write a program to create an abstract class Shape with a method area(). Derive classes Circle and Rectangle from it and implement the area() method in both."
      ],
      "metadata": {
        "id": "Kq868bHIJdqN"
      },
      "execution_count": null,
      "outputs": []
    },
    {
      "cell_type": "code",
      "source": [
        "from abc import ABC, abstractmethod\n",
        "\n",
        "class Shape(ABC):\n",
        "    @abstractmethod\n",
        "    def area(self):\n",
        "        pass\n",
        "\n",
        "class Circle(Shape):\n",
        "    def __init__(self, radius):\n",
        "        self.radius = radius\n",
        "\n",
        "    def area(self):\n",
        "        return 3.14 * self.radius * self.radius\n",
        "\n",
        "class Rectangle(Shape):\n",
        "    def __init__(self, length, width):\n",
        "        self.length = length\n",
        "        self.width = width\n",
        "\n",
        "    def area(self):\n",
        "        return self.length * self.width\n",
        "\n",
        "circle = Circle(5)\n",
        "rectangle = Rectangle(4, 6)\n",
        "\n",
        "print(\"Area of circle:\", circle.area())\n",
        "print(\"Area of rectangle:\", rectangle.area())\n"
      ],
      "metadata": {
        "id": "aESrYKLUoaSv",
        "colab": {
          "base_uri": "https://localhost:8080/"
        },
        "outputId": "35db2f1b-ae94-49e8-ffaa-4b355c2243cd"
      },
      "execution_count": null,
      "outputs": [
        {
          "output_type": "stream",
          "name": "stdout",
          "text": [
            "Area of circle: 78.5\n",
            "Area of rectangle: 24\n"
          ]
        }
      ]
    },
    {
      "cell_type": "code",
      "source": [
        "#3.Implement a multi-level inheritance scenario where a class Vehicle has an attribute type. Derive a class Car and further derive a class ElectricCar that adds a battery attribute."
      ],
      "metadata": {
        "id": "Pbqsho02JdtH"
      },
      "execution_count": null,
      "outputs": []
    },
    {
      "cell_type": "markdown",
      "source": [],
      "metadata": {
        "id": "4t1CkejCKT08"
      }
    },
    {
      "cell_type": "code",
      "source": [
        "class Vehicle:\n",
        "    def __init__(self, type):\n",
        "        self.type = type\n",
        "\n",
        "class Car(Vehicle):\n",
        "    def __init__(self, type, brand):\n",
        "        super().__init__(type)\n",
        "        self.brand = brand\n",
        "\n",
        "class ElectricCar(Car):\n",
        "    def __init__(self, type, brand, battery):\n",
        "        super().__init__(type, brand)\n",
        "        self.battery = battery\n",
        "\n",
        "car = ElectricCar(\"Car\", \"Tesla\", \"Li-ion\")\n",
        "print(\"Type:\", car.type)\n",
        "print(\"Brand:\", car.brand)\n",
        "print(\"Battery:\", car.battery)\n"
      ],
      "metadata": {
        "id": "8C4xV34tJdyp",
        "colab": {
          "base_uri": "https://localhost:8080/"
        },
        "outputId": "3bbce8a5-101c-4f63-bb18-4ff8b3660007"
      },
      "execution_count": null,
      "outputs": [
        {
          "output_type": "stream",
          "name": "stdout",
          "text": [
            "Type: Car\n",
            "Brand: Tesla\n",
            "Battery: Li-ion\n"
          ]
        }
      ]
    },
    {
      "cell_type": "code",
      "source": [
        "#4.Demonstrate polymorphism by creating a base class Bird with a method fly(). Create two derived classes Sparrow and Penguin that override the fly() method."
      ],
      "metadata": {
        "id": "DwfLTBjaJd1r"
      },
      "execution_count": null,
      "outputs": []
    },
    {
      "cell_type": "code",
      "source": [
        "class Bird:\n",
        "    def fly(self):\n",
        "        print(\"Some birds can fly.\")\n",
        "\n",
        "class Sparrow(Bird):\n",
        "    def fly(self):\n",
        "        print(\"Sparrow flies high.\")\n",
        "\n",
        "class Penguin(Bird):\n",
        "    def fly(self):\n",
        "        print(\"Penguins cannot fly.\")\n",
        "        super().fly()\n",
        "\n",
        "sparrow = Sparrow()\n",
        "penguin = Penguin()\n",
        "\n",
        "sparrow.fly()\n",
        "penguin.fly()\n",
        "\n",
        "\n"
      ],
      "metadata": {
        "id": "ouPaEUiDJd4B",
        "colab": {
          "base_uri": "https://localhost:8080/"
        },
        "outputId": "d01bbc7b-a9dc-4d73-a97f-91afc704b438"
      },
      "execution_count": null,
      "outputs": [
        {
          "output_type": "stream",
          "name": "stdout",
          "text": [
            "Sparrow flies high.\n",
            "Penguins cannot fly.\n",
            "Some birds can fly.\n"
          ]
        }
      ]
    },
    {
      "cell_type": "code",
      "source": [
        "#5.Write a program to demonstrate encapsulation by creating a class BankAccount with private attributes balance and methods to deposit, withdraw, and check balance."
      ],
      "metadata": {
        "id": "tLF1xECcJd6s"
      },
      "execution_count": null,
      "outputs": []
    },
    {
      "cell_type": "code",
      "source": [
        "class BankAccount:\n",
        "    def __init__(self):\n",
        "        self.__balance = 0\n",
        "\n",
        "    def deposit(self, amount):\n",
        "        self.__balance += amount\n",
        "\n",
        "    def withdraw(self, amount):\n",
        "        if amount <= self.__balance:\n",
        "            self.__balance -= amount\n",
        "\n",
        "    def get_balance(self):\n",
        "        return self.__balance\n",
        "\n",
        "account = BankAccount()\n",
        "account.deposit(1000)\n",
        "account.withdraw(500)\n",
        "print(\"Balance:\", account.get_balance())\n"
      ],
      "metadata": {
        "id": "Qtoi7aX4Jd9a",
        "colab": {
          "base_uri": "https://localhost:8080/"
        },
        "outputId": "6ec77dfa-fbb8-4c68-9f12-6895fdf1e6ba"
      },
      "execution_count": null,
      "outputs": [
        {
          "output_type": "stream",
          "name": "stdout",
          "text": [
            "Balance: 500\n"
          ]
        }
      ]
    },
    {
      "cell_type": "code",
      "source": [
        "#6.Demonstrate runtime polymorphism using a method play() in a base class Instrument. Derive classes Guitar and Piano that implement their own version of play()."
      ],
      "metadata": {
        "id": "sXawFBNtKsRk"
      },
      "execution_count": null,
      "outputs": []
    },
    {
      "cell_type": "code",
      "source": [
        "class Instrument:\n",
        "    def play(self):\n",
        "        print(\"Playing an instrument.\")\n",
        "\n",
        "class Guitar(Instrument):\n",
        "    def play(self):\n",
        "        print(\"Playing a guitar.\")\n",
        "\n",
        "class Piano(Instrument):\n",
        "    def play(self):\n",
        "        print(\"Playing a piano.\")\n",
        "        super().play()\n",
        "\n",
        "guitar = Guitar()\n",
        "piano = Piano()\n",
        "\n",
        "guitar.play()\n",
        "piano.play()\n",
        "\n"
      ],
      "metadata": {
        "id": "YrjSRR6aKsUI",
        "colab": {
          "base_uri": "https://localhost:8080/"
        },
        "outputId": "346dcd15-4c72-4574-efb1-46ba8434b777"
      },
      "execution_count": null,
      "outputs": [
        {
          "output_type": "stream",
          "name": "stdout",
          "text": [
            "Playing a guitar.\n",
            "Playing a piano.\n",
            "Playing an instrument.\n"
          ]
        }
      ]
    },
    {
      "cell_type": "code",
      "source": [
        "#7.Create a class MathOperations with a class method add_numbers() to add two numbers and a static method subtract_numbers() to subtract two numbers."
      ],
      "metadata": {
        "id": "cZpS9OvkKsXd"
      },
      "execution_count": null,
      "outputs": []
    },
    {
      "cell_type": "code",
      "source": [
        "class MathOperations:\n",
        "    @classmethod\n",
        "    def add_numbers(cls, a, b):\n",
        "        return a + b\n",
        "\n",
        "    @staticmethod\n",
        "    def subtract_numbers(a, b):\n",
        "        return a - b\n",
        "\n",
        "MathOperations.add_numbers(5, 3)\n",
        "MathOperations.subtract_numbers(10, 4)\n",
        "\n"
      ],
      "metadata": {
        "id": "ESE7NAGsKsch",
        "colab": {
          "base_uri": "https://localhost:8080/"
        },
        "outputId": "ee10c8b2-a3ac-4d7e-a3c4-65ff33c87cfc"
      },
      "execution_count": null,
      "outputs": [
        {
          "output_type": "execute_result",
          "data": {
            "text/plain": [
              "6"
            ]
          },
          "metadata": {},
          "execution_count": 7
        }
      ]
    },
    {
      "cell_type": "code",
      "source": [
        "#8.Implement a class Person with a class method to count the total number of persons created."
      ],
      "metadata": {
        "id": "2fKMPN-6Ksft"
      },
      "execution_count": null,
      "outputs": []
    },
    {
      "cell_type": "code",
      "source": [
        "class Person:\n",
        "    count = 0\n",
        "\n",
        "    def __init__(self, name):\n",
        "        self.name = name\n",
        "        Person.count += 1\n",
        "\n",
        "    @classmethod\n",
        "    def total_persons(cls):\n",
        "        return cls.count\n",
        "\n",
        "person1 = Person(\"Alice\")\n",
        "person2 = Person(\"Bob\")\n",
        "print(\"Total persons:\", Person.total_persons())\n"
      ],
      "metadata": {
        "id": "3KWOIiixKsi1",
        "colab": {
          "base_uri": "https://localhost:8080/"
        },
        "outputId": "d35520f5-e1ba-4588-b0d0-9283bb905e87"
      },
      "execution_count": null,
      "outputs": [
        {
          "output_type": "stream",
          "name": "stdout",
          "text": [
            "Total persons: 2\n"
          ]
        }
      ]
    },
    {
      "cell_type": "code",
      "source": [
        "#9.Write a class Fraction with attributes numerator and denominator. Override the str method to display the fraction as \"numerator/denominator\"."
      ],
      "metadata": {
        "id": "V5I62inPKsmF"
      },
      "execution_count": null,
      "outputs": []
    },
    {
      "cell_type": "code",
      "source": [
        "class Fraction:\n",
        "    def __init__(self, numerator, denominator):\n",
        "        self.numerator = numerator\n",
        "        self.denominator = denominator\n",
        "\n",
        "    def __str__(self):\n",
        "        return f\"{self.numerator}/{self.denominator}\"\n",
        "\n",
        "fraction = Fraction(3, 4)\n",
        "print(fraction)\n"
      ],
      "metadata": {
        "id": "PPd7PrcXKsp6",
        "colab": {
          "base_uri": "https://localhost:8080/"
        },
        "outputId": "653d9dc3-ca5c-41bf-af14-048748becbca"
      },
      "execution_count": null,
      "outputs": [
        {
          "output_type": "stream",
          "name": "stdout",
          "text": [
            "3/4\n"
          ]
        }
      ]
    },
    {
      "cell_type": "code",
      "source": [
        "#10. Demonstrate operator overloading by creating a class Vector and overriding the add method to add two vectors."
      ],
      "metadata": {
        "id": "-qLJ8AvgJd_6"
      },
      "execution_count": null,
      "outputs": []
    },
    {
      "cell_type": "code",
      "source": [
        "class Vector:\n",
        "    def __init__(self, x, y):\n",
        "        self.x = x\n",
        "        self.y = y\n",
        "\n",
        "    def __add__(self, other):\n",
        "        return Vector(self.x + other.x, self.y + other.y)\n",
        "\n",
        "    def __str__(self):\n",
        "        return f\"({self.x}, {self.y})\"\n",
        "\n",
        "vector1 = Vector(1, 2)\n",
        "vector2 = Vector(3, 4)\n",
        "result = vector1 + vector2\n",
        "print(result)\n"
      ],
      "metadata": {
        "id": "pBGIcx5TLOEF",
        "colab": {
          "base_uri": "https://localhost:8080/"
        },
        "outputId": "8e225c75-b891-4c60-b243-43ea7a11b7b0"
      },
      "execution_count": null,
      "outputs": [
        {
          "output_type": "stream",
          "name": "stdout",
          "text": [
            "(4, 6)\n"
          ]
        }
      ]
    },
    {
      "cell_type": "code",
      "source": [
        "#11.Create a class Person with attributes name and age. Add a method greet() that prints \"Hello, my name is {name} and I am {age} years old.\""
      ],
      "metadata": {
        "id": "zZqe4DvvLOGk"
      },
      "execution_count": null,
      "outputs": []
    },
    {
      "cell_type": "code",
      "source": [
        "class Person:\n",
        "    def __init__(self, name, age):\n",
        "        self.name = \"Abhay\"\n",
        "        self.age = 25\n",
        "\n",
        "    def greet(self):\n",
        "        print(f\"Hello, my name is {self.name} and I am {self.age} years old.\")\n",
        "\n",
        "person = Person(\"Abhay\", 25)\n",
        "person.greet()\n"
      ],
      "metadata": {
        "id": "WflEpR7ILOJL",
        "colab": {
          "base_uri": "https://localhost:8080/"
        },
        "outputId": "0b2a548a-7999-445e-d481-a5ebda41dd8e"
      },
      "execution_count": null,
      "outputs": [
        {
          "output_type": "stream",
          "name": "stdout",
          "text": [
            "Hello, my name is Abhay and I am 25 years old.\n"
          ]
        }
      ]
    },
    {
      "cell_type": "code",
      "source": [
        "#12.Implement a class Student with attributes name and grades. Create a method average_grade() to compute the average of the grades."
      ],
      "metadata": {
        "id": "b3n9bSeDLOMA"
      },
      "execution_count": null,
      "outputs": []
    },
    {
      "cell_type": "code",
      "source": [
        "class Student:\n",
        "    def __init__(self, name, grades):\n",
        "        self.name = name\n",
        "        self.grades = grades\n",
        "\n",
        "    def average_grade(self):\n",
        "        return sum(self.grades) / len(self.grades)\n",
        "\n",
        "student = Student(\"Abhay\", [90, 85, 92, 88])\n",
        "print(\"Average grade:\", student.average_grade())\n",
        "\n"
      ],
      "metadata": {
        "id": "d4VnGAKELOPY",
        "colab": {
          "base_uri": "https://localhost:8080/"
        },
        "outputId": "fc09dc64-f5e2-4fdd-c156-9e429a3dfa97"
      },
      "execution_count": null,
      "outputs": [
        {
          "output_type": "stream",
          "name": "stdout",
          "text": [
            "Average grade: 88.75\n"
          ]
        }
      ]
    },
    {
      "cell_type": "code",
      "source": [
        "#13.Create a class Rectangle with methods set_dimensions() to set the dimensions and area() to calculate the area."
      ],
      "metadata": {
        "id": "o97VHkCnLOS1"
      },
      "execution_count": null,
      "outputs": []
    },
    {
      "cell_type": "code",
      "source": [
        "class Rectangle:\n",
        "    def set_dimensions(self, length, width):\n",
        "        self.length = length\n",
        "        self.width = width\n",
        "\n",
        "    def area(self):\n",
        "        return self.length * self.width\n",
        "\n",
        "rectangle = Rectangle()\n",
        "rectangle.set_dimensions(5, 3)\n",
        "print(\"Area:\", rectangle.area())\n"
      ],
      "metadata": {
        "id": "cGMoSaYXLOU8",
        "colab": {
          "base_uri": "https://localhost:8080/"
        },
        "outputId": "700570a8-ce13-4948-8cb6-e386a383d892"
      },
      "execution_count": null,
      "outputs": [
        {
          "output_type": "stream",
          "name": "stdout",
          "text": [
            "Area: 15\n"
          ]
        }
      ]
    },
    {
      "cell_type": "code",
      "source": [
        "#14.Create a class Employee with a method calculate_salary() that computes the salary based on hours worked and hourly rate. Create a derived class Manager that adds a bonus to the salary."
      ],
      "metadata": {
        "id": "J52zo95xO1TL"
      },
      "execution_count": null,
      "outputs": []
    },
    {
      "cell_type": "code",
      "source": [
        "class Employee:\n",
        "    def calculate_salary(self, hours, rate):\n",
        "        return hours * rate\n",
        "\n",
        "class Manager(Employee):\n",
        "    def calculate_salary(self, hours, rate, bonus):\n",
        "        return super().calculate_salary(hours, rate) + bonus\n",
        "\n",
        "manager = Manager()\n",
        "salary = manager.calculate_salary(40, 20, 1000)\n",
        "print(\"Salary:\", salary)\n"
      ],
      "metadata": {
        "id": "O7TvBoXKO1hb",
        "colab": {
          "base_uri": "https://localhost:8080/"
        },
        "outputId": "9eaf004b-ad10-42d9-a281-0938f05fbaa3"
      },
      "execution_count": null,
      "outputs": [
        {
          "output_type": "stream",
          "name": "stdout",
          "text": [
            "Salary: 1800\n"
          ]
        }
      ]
    },
    {
      "cell_type": "code",
      "source": [
        "#15.Create a class Product with attributes name, price, and quantity. Implement a method total_price() that calculates the total price of the product."
      ],
      "metadata": {
        "id": "BXtmmnynO1rB"
      },
      "execution_count": null,
      "outputs": []
    },
    {
      "cell_type": "code",
      "source": [
        "class Product:\n",
        "    def __init__(self, name, price, quantity):\n",
        "        self.name = name\n",
        "        self.price = price\n",
        "        self.quantity = quantity\n",
        "\n",
        "    def total_price(self):\n",
        "        return self.price * self.quantity\n",
        "\n",
        "product = Product(\"Laptop\", 1000, 2)\n",
        "print(\"Total price:\", product.total_price())\n"
      ],
      "metadata": {
        "id": "2QD5snAeO11c",
        "colab": {
          "base_uri": "https://localhost:8080/"
        },
        "outputId": "26fd2f55-31cf-4f85-ac64-469b0dd3fe41"
      },
      "execution_count": null,
      "outputs": [
        {
          "output_type": "stream",
          "name": "stdout",
          "text": [
            "Total price: 2000\n"
          ]
        }
      ]
    },
    {
      "cell_type": "code",
      "source": [
        "#16.Create a class Animal with an abstract method sound(). Create two derived classes Cow and Sheep that implement the sound() method."
      ],
      "metadata": {
        "id": "-WalM52PPNSf"
      },
      "execution_count": null,
      "outputs": []
    },
    {
      "cell_type": "code",
      "source": [
        "from abc import ABC, abstractmethod\n",
        "\n",
        "class Animal(ABC):\n",
        "    @abstractmethod\n",
        "    def sound(self):\n",
        "        pass\n",
        "\n",
        "class Cow(Animal):\n",
        "    def sound(self):\n",
        "        return \"Moo\"\n",
        "\n",
        "class Sheep(Animal):\n",
        "    def sound(self):\n",
        "        return \"Baa\"\n",
        "\n",
        "cow = Cow()\n",
        "sheep = Sheep()\n",
        "\n",
        "print(\"Cow says:\", cow.sound())\n",
        "print(\"Sheep says:\", sheep.sound())\n"
      ],
      "metadata": {
        "id": "Yjgb8ZsQPNdd",
        "colab": {
          "base_uri": "https://localhost:8080/"
        },
        "outputId": "55c7fd43-9f46-4cdd-b483-78c80a2db037"
      },
      "execution_count": null,
      "outputs": [
        {
          "output_type": "stream",
          "name": "stdout",
          "text": [
            "Cow says: Moo\n",
            "Sheep says: Baa\n"
          ]
        }
      ]
    },
    {
      "cell_type": "code",
      "source": [
        "#17. Create a class Book with attributes title, author, and year_published. Add a method get_book_info() that returns a formatted string with the book's details."
      ],
      "metadata": {
        "id": "ywbEXQxJPNmq"
      },
      "execution_count": null,
      "outputs": []
    },
    {
      "cell_type": "code",
      "source": [
        "class Book:\n",
        "    def __init__(self, title, author, year_published):\n",
        "        self.title = title\n",
        "        self.author = author\n",
        "        self.year_published = year_published\n",
        "\n",
        "    def get_book_info(self):\n",
        "        return f\"{self.title} by {self.author}, published in {self.year_published}\"\n",
        "\n",
        "book = Book(\"The Great Gatsby\", \"F. Scott Fitzgerald\", 1925)\n",
        "print(book.get_book_info())\n"
      ],
      "metadata": {
        "id": "gR5xkZpyPNwN",
        "colab": {
          "base_uri": "https://localhost:8080/"
        },
        "outputId": "56270483-9636-4fd2-a0da-ec13c369edff"
      },
      "execution_count": null,
      "outputs": [
        {
          "output_type": "stream",
          "name": "stdout",
          "text": [
            "The Great Gatsby by F. Scott Fitzgerald, published in 1925\n"
          ]
        }
      ]
    },
    {
      "cell_type": "code",
      "source": [
        "#18.Create a class House with attributes address and price. Create a derived class Mansion that adds an attribute number_of_rooms."
      ],
      "metadata": {
        "id": "p7UnsFBpPN5l"
      },
      "execution_count": null,
      "outputs": []
    },
    {
      "cell_type": "code",
      "source": [
        "class House:\n",
        "    def __init__(self, address, price):\n",
        "        self.address = address\n",
        "        self.price = price\n",
        "\n",
        "class Mansion(House):\n",
        "    def __init__(self, address, price, number_of_rooms):\n",
        "        super().__init__(address, price)\n",
        "        self.number_of_rooms = number_of_rooms\n",
        "\n",
        "mansion = Mansion(\"123 Main St\", 250000, 8)\n",
        "print(\"Address:\", mansion.address)\n",
        "print(\"Price:\", mansion.price)\n",
        "print(\"Number of rooms:\", mansion.number_of_rooms)\n"
      ],
      "metadata": {
        "id": "HlPzLRSsPODN",
        "colab": {
          "base_uri": "https://localhost:8080/"
        },
        "outputId": "67cac2d7-ccb7-4046-f32b-9a2255c5dbbc"
      },
      "execution_count": null,
      "outputs": [
        {
          "output_type": "stream",
          "name": "stdout",
          "text": [
            "Address: 123 Main St\n",
            "Price: 250000\n",
            "Number of rooms: 8\n"
          ]
        }
      ]
    },
    {
      "cell_type": "markdown",
      "source": [
        "OOPS Assignment (Theory Questions and Answers)\n",
        "\n"
      ],
      "metadata": {
        "id": "bSTZ8vM7tP2d"
      }
    },
    {
      "cell_type": "markdown",
      "source": [
        "1. What is Object-Oriented Programming (OOP)?\n",
        "\n",
        "OOP is a programming paradigm based on the concept of \"objects\", which contain data (attributes) and code (methods). It promotes modularity, reusability, and organization in software development.\n",
        "\n",
        "2. What is a class in OOP?\n",
        "\n",
        "A class is a blueprint or template for creating objects. It defines attributes and methods that its objects will have.\n",
        "\n",
        "3. What is an object in OOP?\n",
        "\n",
        "An object is an instance of a class. It holds actual values for the properties defined in the class and can perform actions using its methods.\n",
        "\n",
        "4. What is the difference between abstraction and encapsulation?\n",
        "\n",
        "○ Abstraction hides the complex implementation and shows only the necessary\n",
        "features.\n",
        "○ Encapsulation restricts direct access to data by bundling it with methods and\n",
        "using access specifiers.\n",
        "\n",
        "5. What are dunder (double underscore) methods in Python?\n",
        "\n",
        "Dunder methods (like __init__, __str__, __len__) are special methods with double\n",
        "underscores that allow operator overloading and control object behavior.\n",
        "\n",
        "6. Explain the concept of inheritance in OOP.\n",
        "\n",
        "Inheritance allows a class (child) to inherit properties and methods from another class (parent), promoting code reuse.\n",
        "\n",
        "7. What is polymorphism in OOP?\n",
        "\n",
        "Polymorphism allows different classes to be treated as instances of the same class through a shared interface. It enables methods with the same name to behave differently based on the object.\n",
        "\n",
        "8. How is encapsulation achieved in Python?\n",
        "\n",
        "Encapsulation is achieved using private/protected variables (by prefixing with _ or __) and providing getter/setter methods to access them.\n",
        "\n",
        "9. What is a constructor in Python?\n",
        "\n",
        "A constructor is a special method __init__ that is automatically called when an object is created. It initializes the object’s attributes.\n",
        "\n",
        "10. What are class methods and static methods in Python?\n",
        "\n",
        "● @classmethod: Takes cls as the first argument and can access/modify class state.\n",
        "● @staticmethod: Takes no default argument and behaves like a regular function but belongs to the class's namespace.\n",
        "\n",
        "11. What is method overloading in Python?\n",
        "\n",
        "Python does not support traditional method overloading. Instead, you can use default arguments or variable-length arguments to simulate it.\n",
        "\n",
        "12. What is method overriding in OOP?\n",
        "\n",
        "Method overriding is redefining a parent class method in a child class to provide a new implementation.\n",
        "\n",
        "13. What is a property decorator in Python?\n",
        "\n",
        "@property is used to make a method act like an attribute. It allows controlled access to instance variables.\n",
        "\n",
        "14. Why is polymorphism important in OOP?\n",
        "\n",
        "Polymorphism increases flexibility and extensibility by allowing different classes to be treated as the same through shared methods or interfaces.\n",
        "\n",
        "15. What is an abstract class in Python?\n",
        "\n",
        "An abstract class cannot be instantiated and usually contains one or more abstract methods (defined using @abstractmethod). It defines a common interface for its subclasses.\n",
        "\n",
        "16. What are the advantages of Object-Oriented Programming?\n",
        "\n",
        "● Code reusability through inheritance\n",
        "● Encapsulation for better data protection\n",
        "● Polymorphism for flexible and interchangeable object use\n",
        "● Abstraction for hiding complexity\n",
        "\n",
        "17. What is the difference between a class variable and an instance variable?\n",
        "\n",
        "● Class variable: Shared across all instances.\n",
        "● Instance variable: Unique to each object.\n",
        "\n",
        "18. What is multiple inheritance in Python?\n",
        "\n",
        "A class can inherit from more than one class. Python supports this, but it can introduce complexity (solved using MRO - Method Resolution Order).\n",
        "\n",
        "19. What is the purpose of __str__ and __repr__ methods in Python?\n",
        "\n",
        "● __str__: Returns a human-readable string representation.\n",
        "● __repr__: Returns an unambiguous string, mostly for debugging/developers.\n",
        "\n",
        "20. What is the significance of the super() function in Python?\n",
        "\n",
        "super() is used to call a method from a parent class, commonly used in constructors to ensure proper initialization in inheritance.\n",
        "\n",
        "21. What is the significance of the __del__ method in Python?\n",
        "\n",
        "__del__ is a destructor method called when an object is about to be destroyed. It’s used for cleanup operations.\n",
        "\n",
        "22. What is the difference between @staticmethod and @classmethod in Python?\n",
        "\n",
        "● @staticmethod: No automatic arguments.\n",
        "● @classmethod: Receives cls and can modify class-level data.\n",
        "\n",
        "23. How does polymorphism work in Python with inheritance?\n",
        "\n",
        "Subclasses can override methods of the base class, and Python can dynamically call the appropriate method based on the object's type.\n",
        "\n",
        "24. What is method chaining in Python OOP?\n",
        "\n",
        "Method chaining allows calling multiple methods on the same object in a single line, often by returning self from each method.\n",
        "\n",
        "25. What is the purpose of the __call__ method in Python?\n",
        "\n",
        "The __call__ method allows an object to be called like a function. This is useful for objects that behave like functions."
      ],
      "metadata": {
        "id": "gk9EXm7XtPyr"
      }
    }
  ]
}